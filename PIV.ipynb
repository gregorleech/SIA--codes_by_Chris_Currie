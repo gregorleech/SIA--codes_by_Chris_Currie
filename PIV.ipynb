{
 "cells": [
  {
   "cell_type": "code",
   "execution_count": 11,
   "metadata": {},
   "outputs": [],
   "source": [
    "%matplotlib inline\n",
    "import numpy as np\n",
    "from numpy.fft import fft2, ifft2, fftshift\n",
    "import matplotlib\n",
    "from matplotlib import pyplot as plt\n",
    "from matplotlib import cm\n",
    "import scipy\n",
    "from scipy.ndimage import gaussian_filter1d as gf1d\n",
    "from scipy.ndimage import gaussian_filter as gf\n",
    "from scipy.ndimage import uniform_filter as uf\n",
    "directory = \"Z\"\n",
    "import sys\n",
    "sys.path.append(directory+\":\\\\Chris\\\\Code\\\\DDM\\\\\")\n",
    "import tiff_file\n",
    "import ddm_clean as ddm\n",
    "import io \n",
    "import sys\n",
    "import csv\n",
    "import os\n",
    "import glob #glob is helpful for searching for filenames or directories\n",
    "import pickle #for saving data\n",
    "import imagej "
   ]
  },
  {
   "cell_type": "code",
   "execution_count": 18,
   "metadata": {},
   "outputs": [
    {
     "ename": "PermissionError",
     "evalue": "[WinError 5] Access is denied",
     "output_type": "error",
     "traceback": [
      "\u001b[1;31m---------------------------------------------------------------------------\u001b[0m",
      "\u001b[1;31mPermissionError\u001b[0m                           Traceback (most recent call last)",
      "\u001b[1;32m<ipython-input-18-348bdf1598a0>\u001b[0m in \u001b[0;36m<module>\u001b[1;34m\u001b[0m\n\u001b[0;32m      8\u001b[0m \u001b[1;33m\u001b[0m\u001b[0m\n\u001b[0;32m      9\u001b[0m \u001b[1;32mimport\u001b[0m \u001b[0msubprocess\u001b[0m\u001b[1;33m\u001b[0m\u001b[1;33m\u001b[0m\u001b[0m\n\u001b[1;32m---> 10\u001b[1;33m \u001b[0msubprocess\u001b[0m\u001b[1;33m.\u001b[0m\u001b[0mPopen\u001b[0m\u001b[1;33m(\u001b[0m\u001b[1;34m'C:\\\\Users\\\\Public\\\\Fiji.app'\u001b[0m\u001b[1;33m)\u001b[0m\u001b[1;33m\u001b[0m\u001b[1;33m\u001b[0m\u001b[0m\n\u001b[0m",
      "\u001b[1;32m~\\anaconda3\\lib\\subprocess.py\u001b[0m in \u001b[0;36m__init__\u001b[1;34m(self, args, bufsize, executable, stdin, stdout, stderr, preexec_fn, close_fds, shell, cwd, env, universal_newlines, startupinfo, creationflags, restore_signals, start_new_session, pass_fds, encoding, errors, text)\u001b[0m\n\u001b[0;32m    852\u001b[0m                             encoding=encoding, errors=errors)\n\u001b[0;32m    853\u001b[0m \u001b[1;33m\u001b[0m\u001b[0m\n\u001b[1;32m--> 854\u001b[1;33m             self._execute_child(args, executable, preexec_fn, close_fds,\n\u001b[0m\u001b[0;32m    855\u001b[0m                                 \u001b[0mpass_fds\u001b[0m\u001b[1;33m,\u001b[0m \u001b[0mcwd\u001b[0m\u001b[1;33m,\u001b[0m \u001b[0menv\u001b[0m\u001b[1;33m,\u001b[0m\u001b[1;33m\u001b[0m\u001b[1;33m\u001b[0m\u001b[0m\n\u001b[0;32m    856\u001b[0m                                 \u001b[0mstartupinfo\u001b[0m\u001b[1;33m,\u001b[0m \u001b[0mcreationflags\u001b[0m\u001b[1;33m,\u001b[0m \u001b[0mshell\u001b[0m\u001b[1;33m,\u001b[0m\u001b[1;33m\u001b[0m\u001b[1;33m\u001b[0m\u001b[0m\n",
      "\u001b[1;32m~\\anaconda3\\lib\\subprocess.py\u001b[0m in \u001b[0;36m_execute_child\u001b[1;34m(self, args, executable, preexec_fn, close_fds, pass_fds, cwd, env, startupinfo, creationflags, shell, p2cread, p2cwrite, c2pread, c2pwrite, errread, errwrite, unused_restore_signals, unused_start_new_session)\u001b[0m\n\u001b[0;32m   1305\u001b[0m             \u001b[1;31m# Start the process\u001b[0m\u001b[1;33m\u001b[0m\u001b[1;33m\u001b[0m\u001b[1;33m\u001b[0m\u001b[0m\n\u001b[0;32m   1306\u001b[0m             \u001b[1;32mtry\u001b[0m\u001b[1;33m:\u001b[0m\u001b[1;33m\u001b[0m\u001b[1;33m\u001b[0m\u001b[0m\n\u001b[1;32m-> 1307\u001b[1;33m                 hp, ht, pid, tid = _winapi.CreateProcess(executable, args,\n\u001b[0m\u001b[0;32m   1308\u001b[0m                                          \u001b[1;31m# no special security\u001b[0m\u001b[1;33m\u001b[0m\u001b[1;33m\u001b[0m\u001b[1;33m\u001b[0m\u001b[0m\n\u001b[0;32m   1309\u001b[0m                                          \u001b[1;32mNone\u001b[0m\u001b[1;33m,\u001b[0m \u001b[1;32mNone\u001b[0m\u001b[1;33m,\u001b[0m\u001b[1;33m\u001b[0m\u001b[1;33m\u001b[0m\u001b[0m\n",
      "\u001b[1;31mPermissionError\u001b[0m: [WinError 5] Access is denied"
     ]
    }
   ],
   "source": [
    "import os\n",
    "\n",
    "os.system(\"ImageJ\") # To open any program by their name recognized by windows\n",
    "\n",
    "# OR\n",
    "\n",
    "#os.startfile(\"path to application or any file\") # Open any program, text or office document\n",
    "\n",
    "import subprocess\n",
    "subprocess.Popen('C:\\\\Users\\\\Public\\\\Fiji.app')"
   ]
  },
  {
   "cell_type": "code",
   "execution_count": 12,
   "metadata": {},
   "outputs": [
    {
     "name": "stdout",
     "output_type": "stream",
     "text": [
      "found 14 files\n",
      " 0 \t 1_410 AA_6min.nd2 - C=0.tif\n",
      " 1 \t 1_410 AA_6min.nd2 - C=1.tif\n",
      " 2 \t 2_417 AA_6min.nd2 - C=0.tif\n",
      " 3 \t 2_417 AA_6min.nd2 - C=1.tif\n",
      " 4 \t 3_424 AA_6min.nd2 - C=0.tif\n",
      " 5 \t 3_424 AA_6min.nd2 - C=1.tif\n",
      " 6 \t 4_431 AA_6min.nd2 - C=0.tif\n",
      " 7 \t 4_431 AA_6min.nd2 - C=1.tif\n",
      " 8 \t 5_439 AA_6min.nd2 - C=0.tif\n",
      " 9 \t 5_439 AA_6min.nd2 - C=1.tif\n",
      " 10 \t 6_447 AA_6min.nd2 - C=0.tif\n",
      " 11 \t 6_447 AA_6min.nd2 - C=1.tif\n",
      " 12 \t 7_456 AA_12min.nd2 - C=0.tif\n",
      " 13 \t 7_456 AA_12min.nd2 - C=1.tif\n"
     ]
    },
    {
     "ename": "ExecutableNotFound",
     "evalue": "mvn not found on path C:\\Users\\adminranderson\\anaconda3;C:\\Users\\adminranderson\\anaconda3\\Library\\mingw-w64\\bin;C:\\Users\\adminranderson\\anaconda3\\Library\\usr\\bin;C:\\Users\\adminranderson\\anaconda3\\Library\\bin;C:\\Users\\adminranderson\\anaconda3\\Scripts;C:\\Users\\adminranderson\\anaconda3\\bin;C:\\Users\\adminranderson\\anaconda3\\condabin;C:\\WINDOWS\\system32;C:\\WINDOWS;C:\\WINDOWS\\System32\\Wbem;C:\\WINDOWS\\System32\\WindowsPowerShell\\v1.0;C:\\WINDOWS\\System32\\OpenSSH;C:\\Program Files\\MATLAB\\R2019a\\bin;C:\\Program Files\\MATLAB\\R2017a\\bin;C:\\Users\\adminranderson\\AppData\\Local\\Microsoft\\WindowsApps;.",
     "output_type": "error",
     "traceback": [
      "\u001b[1;31m---------------------------------------------------------------------------\u001b[0m",
      "\u001b[1;31mExecutableNotFound\u001b[0m                        Traceback (most recent call last)",
      "\u001b[1;32m<ipython-input-12-0dd136fad106>\u001b[0m in \u001b[0;36m<module>\u001b[1;34m\u001b[0m\n\u001b[0;32m     16\u001b[0m \u001b[0mdata_file\u001b[0m \u001b[1;33m=\u001b[0m \u001b[1;33m(\u001b[0m\u001b[0mfull_data_file\u001b[0m\u001b[1;33m.\u001b[0m\u001b[0msplit\u001b[0m\u001b[1;33m(\u001b[0m\u001b[1;34m'\\\\'\u001b[0m\u001b[1;33m)\u001b[0m\u001b[1;33m[\u001b[0m\u001b[1;33m-\u001b[0m\u001b[1;36m1\u001b[0m\u001b[1;33m]\u001b[0m\u001b[1;33m)\u001b[0m\u001b[1;33m[\u001b[0m\u001b[1;33m:\u001b[0m\u001b[1;33m-\u001b[0m\u001b[1;36m4\u001b[0m\u001b[1;33m]\u001b[0m\u001b[1;33m\u001b[0m\u001b[1;33m\u001b[0m\u001b[0m\n\u001b[0;32m     17\u001b[0m \u001b[1;33m\u001b[0m\u001b[0m\n\u001b[1;32m---> 18\u001b[1;33m \u001b[0mij\u001b[0m \u001b[1;33m=\u001b[0m \u001b[0mimagej\u001b[0m\u001b[1;33m.\u001b[0m\u001b[0minit\u001b[0m\u001b[1;33m(\u001b[0m\u001b[1;33m)\u001b[0m\u001b[1;33m\u001b[0m\u001b[1;33m\u001b[0m\u001b[0m\n\u001b[0m\u001b[0;32m     19\u001b[0m \u001b[1;33m\u001b[0m\u001b[0m\n\u001b[0;32m     20\u001b[0m \u001b[1;31m# Load an image.\u001b[0m\u001b[1;33m\u001b[0m\u001b[1;33m\u001b[0m\u001b[1;33m\u001b[0m\u001b[0m\n",
      "\u001b[1;32m~\\anaconda3\\lib\\site-packages\\imagej\\__init__.py\u001b[0m in \u001b[0;36minit\u001b[1;34m(ij_dir_or_version_or_endpoint, headless)\u001b[0m\n\u001b[0;32m    163\u001b[0m         \u001b[0msj\u001b[0m\u001b[1;33m.\u001b[0m\u001b[0mconfig\u001b[0m\u001b[1;33m.\u001b[0m\u001b[0mendpoints\u001b[0m\u001b[1;33m.\u001b[0m\u001b[0mextend\u001b[0m\u001b[1;33m(\u001b[0m\u001b[0moriginal_endpoints\u001b[0m\u001b[1;33m)\u001b[0m\u001b[1;33m\u001b[0m\u001b[1;33m\u001b[0m\u001b[0m\n\u001b[0;32m    164\u001b[0m \u001b[1;33m\u001b[0m\u001b[0m\n\u001b[1;32m--> 165\u001b[1;33m     \u001b[0msj\u001b[0m\u001b[1;33m.\u001b[0m\u001b[0mstart_jvm\u001b[0m\u001b[1;33m(\u001b[0m\u001b[1;33m)\u001b[0m\u001b[1;33m\u001b[0m\u001b[1;33m\u001b[0m\u001b[0m\n\u001b[0m\u001b[0;32m    166\u001b[0m \u001b[1;33m\u001b[0m\u001b[0m\n\u001b[0;32m    167\u001b[0m     \u001b[0mJObjectArray\u001b[0m \u001b[1;33m=\u001b[0m \u001b[0mJArray\u001b[0m\u001b[1;33m(\u001b[0m\u001b[0mJObject\u001b[0m\u001b[1;33m)\u001b[0m\u001b[1;33m\u001b[0m\u001b[1;33m\u001b[0m\u001b[0m\n",
      "\u001b[1;32m~\\anaconda3\\lib\\site-packages\\scyjava\\__init__.py\u001b[0m in \u001b[0;36mstart_jvm\u001b[1;34m(options)\u001b[0m\n\u001b[0;32m     43\u001b[0m         \u001b[0mendpoints\u001b[0m \u001b[1;33m=\u001b[0m \u001b[0mendpoints\u001b[0m\u001b[1;33m[\u001b[0m\u001b[1;33m:\u001b[0m\u001b[1;36m1\u001b[0m\u001b[1;33m]\u001b[0m \u001b[1;33m+\u001b[0m \u001b[0msorted\u001b[0m\u001b[1;33m(\u001b[0m\u001b[0mendpoints\u001b[0m\u001b[1;33m[\u001b[0m\u001b[1;36m1\u001b[0m\u001b[1;33m:\u001b[0m\u001b[1;33m]\u001b[0m\u001b[1;33m)\u001b[0m\u001b[1;33m\u001b[0m\u001b[1;33m\u001b[0m\u001b[0m\n\u001b[0;32m     44\u001b[0m         \u001b[0m_logger\u001b[0m\u001b[1;33m.\u001b[0m\u001b[0mdebug\u001b[0m\u001b[1;33m(\u001b[0m\u001b[1;34m'Using endpoints %s'\u001b[0m\u001b[1;33m,\u001b[0m \u001b[0mendpoints\u001b[0m\u001b[1;33m)\u001b[0m\u001b[1;33m\u001b[0m\u001b[1;33m\u001b[0m\u001b[0m\n\u001b[1;32m---> 45\u001b[1;33m         _, workspace = jgo.resolve_dependencies(\n\u001b[0m\u001b[0;32m     46\u001b[0m             \u001b[1;34m'+'\u001b[0m\u001b[1;33m.\u001b[0m\u001b[0mjoin\u001b[0m\u001b[1;33m(\u001b[0m\u001b[0mendpoints\u001b[0m\u001b[1;33m)\u001b[0m\u001b[1;33m,\u001b[0m\u001b[1;33m\u001b[0m\u001b[1;33m\u001b[0m\u001b[0m\n\u001b[0;32m     47\u001b[0m             \u001b[0mm2_repo\u001b[0m\u001b[1;33m=\u001b[0m\u001b[0mscyjava\u001b[0m\u001b[1;33m.\u001b[0m\u001b[0mconfig\u001b[0m\u001b[1;33m.\u001b[0m\u001b[0mget_m2_repo\u001b[0m\u001b[1;33m(\u001b[0m\u001b[1;33m)\u001b[0m\u001b[1;33m,\u001b[0m\u001b[1;33m\u001b[0m\u001b[1;33m\u001b[0m\u001b[0m\n",
      "\u001b[1;32m~\\anaconda3\\lib\\site-packages\\jgo\\jgo.py\u001b[0m in \u001b[0;36mresolve_dependencies\u001b[1;34m(endpoint_string, cache_dir, m2_repo, link_type, update_cache, force_update, manage_dependencies, repositories, shortcuts, verbose)\u001b[0m\n\u001b[0;32m    655\u001b[0m \u001b[1;33m\u001b[0m\u001b[0m\n\u001b[0;32m    656\u001b[0m     \u001b[1;32mtry\u001b[0m\u001b[1;33m:\u001b[0m\u001b[1;33m\u001b[0m\u001b[1;33m\u001b[0m\u001b[0m\n\u001b[1;32m--> 657\u001b[1;33m         \u001b[0mmvn\u001b[0m \u001b[1;33m=\u001b[0m \u001b[0mexecutable_path_or_raise\u001b[0m\u001b[1;33m(\u001b[0m\u001b[1;34m\"mvn\"\u001b[0m\u001b[1;33m)\u001b[0m\u001b[1;33m\u001b[0m\u001b[1;33m\u001b[0m\u001b[0m\n\u001b[0m\u001b[0;32m    658\u001b[0m         \u001b[0mmvn_out\u001b[0m \u001b[1;33m=\u001b[0m \u001b[0mrun_and_combine_outputs\u001b[0m\u001b[1;33m(\u001b[0m\u001b[0mmvn\u001b[0m\u001b[1;33m,\u001b[0m \u001b[1;33m*\u001b[0m\u001b[0mmvn_args\u001b[0m\u001b[1;33m)\u001b[0m\u001b[1;33m\u001b[0m\u001b[1;33m\u001b[0m\u001b[0m\n\u001b[0;32m    659\u001b[0m     \u001b[1;32mexcept\u001b[0m \u001b[0msubprocess\u001b[0m\u001b[1;33m.\u001b[0m\u001b[0mCalledProcessError\u001b[0m \u001b[1;32mas\u001b[0m \u001b[0me\u001b[0m\u001b[1;33m:\u001b[0m\u001b[1;33m\u001b[0m\u001b[1;33m\u001b[0m\u001b[0m\n",
      "\u001b[1;32m~\\anaconda3\\lib\\site-packages\\jgo\\jgo.py\u001b[0m in \u001b[0;36mexecutable_path_or_raise\u001b[1;34m(tool)\u001b[0m\n\u001b[0;32m    189\u001b[0m     \u001b[0mpath\u001b[0m \u001b[1;33m=\u001b[0m \u001b[0mexecutable_path\u001b[0m\u001b[1;33m(\u001b[0m\u001b[0mtool\u001b[0m\u001b[1;33m)\u001b[0m\u001b[1;33m\u001b[0m\u001b[1;33m\u001b[0m\u001b[0m\n\u001b[0;32m    190\u001b[0m     \u001b[1;32mif\u001b[0m \u001b[0mpath\u001b[0m \u001b[1;32mis\u001b[0m \u001b[1;32mNone\u001b[0m\u001b[1;33m:\u001b[0m\u001b[1;33m\u001b[0m\u001b[1;33m\u001b[0m\u001b[0m\n\u001b[1;32m--> 191\u001b[1;33m         \u001b[1;32mraise\u001b[0m \u001b[0mExecutableNotFound\u001b[0m\u001b[1;33m(\u001b[0m\u001b[0mtool\u001b[0m\u001b[1;33m,\u001b[0m \u001b[0mos\u001b[0m\u001b[1;33m.\u001b[0m\u001b[0mgetenv\u001b[0m\u001b[1;33m(\u001b[0m\u001b[1;34m\"PATH\"\u001b[0m\u001b[1;33m)\u001b[0m\u001b[1;33m)\u001b[0m\u001b[1;33m\u001b[0m\u001b[1;33m\u001b[0m\u001b[0m\n\u001b[0m\u001b[0;32m    192\u001b[0m     \u001b[1;32mreturn\u001b[0m \u001b[0mpath\u001b[0m\u001b[1;33m\u001b[0m\u001b[1;33m\u001b[0m\u001b[0m\n\u001b[0;32m    193\u001b[0m \u001b[1;33m\u001b[0m\u001b[0m\n",
      "\u001b[1;31mExecutableNotFound\u001b[0m: mvn not found on path C:\\Users\\adminranderson\\anaconda3;C:\\Users\\adminranderson\\anaconda3\\Library\\mingw-w64\\bin;C:\\Users\\adminranderson\\anaconda3\\Library\\usr\\bin;C:\\Users\\adminranderson\\anaconda3\\Library\\bin;C:\\Users\\adminranderson\\anaconda3\\Scripts;C:\\Users\\adminranderson\\anaconda3\\bin;C:\\Users\\adminranderson\\anaconda3\\condabin;C:\\WINDOWS\\system32;C:\\WINDOWS;C:\\WINDOWS\\System32\\Wbem;C:\\WINDOWS\\System32\\WindowsPowerShell\\v1.0;C:\\WINDOWS\\System32\\OpenSSH;C:\\Program Files\\MATLAB\\R2019a\\bin;C:\\Program Files\\MATLAB\\R2017a\\bin;C:\\Users\\adminranderson\\AppData\\Local\\Microsoft\\WindowsApps;."
     ]
    }
   ],
   "source": [
    "typee = \"Kinesin\\\\\"   # leave as an empty sting if Confocal videos isn't in a larger folder eg: Kinesin and add \\\\ at end if it is\n",
    "exp = \"211027_ A-A + kinesin\"          #folder name\n",
    "foldy = \"\"                                      # leave as an empty sting if not needed\n",
    "within_rt = \"\"     # Change to AT for kinesin paper exp\n",
    "\n",
    "data_dir = directory+\":\\\\Chris\\\\\"+typee+\"Confocal Videos\\\\\"+exp+foldy+\"\\\\raw tiffs\\\\\"+within_rt\n",
    "saveto = directory+\":\\\\Chris\\\\\"+typee+\"Confocal Videos\\\\\"+exp+\"\\\\SIA\\\\\"  \n",
    "\n",
    "files = glob.glob(data_dir+\"*min*\") \n",
    "files.sort()\n",
    "print(\"found %i files\" % len(files))\n",
    "for i,f in enumerate(files): print (' %i \\t %s' % (i, f.split('\\\\')[-1]))\n",
    "    \n",
    "found_file_number = 3\n",
    "full_data_file= files[found_file_number]\n",
    "data_file = (full_data_file.split('\\\\')[-1])[:-4]\n",
    "\n",
    "ij = imagej.init()\n",
    "\n",
    "# Load an image.\n",
    "image_url = data_dir+data_file\n",
    "jimage = ij.io().open(image_url)\n",
    "\n",
    "# Convert the image from ImageJ to xarray, a package that adds\n",
    "# labeled datasets to numpy (http://xarray.pydata.org/en/stable/).\n",
    "image = ij.py.from_java(jimage)\n",
    "\n",
    "# Display the image (backed by matplotlib).\n",
    "ij.py.show(image, cmap='gray')\n",
    "\n",
    "'''ij.open(\"Z:/Chris/Kinesin/Confocal Videos/211027_no XL + kinesin + myosin/raw tiffs/1_500_6min.nd2 - C=1.tif\");\n",
    "ij.selectWindow(\"1_500_6min.nd2 - C=1.tif\");\n",
    "#run(\"Brightness/Contrast...\");\n",
    "ij.run(\"Enhance Contrast\", \"saturated=0.35\");\n",
    "ij.run(\"Make Substack...\", \"  slices=1,10\");\n",
    "ij.run(\"iterative PIV(Cross-correlation)...\", \"piv1=128 piv2=64 piv3=32 what=[Normalized median test and replace invalid by median] noise=0.1 threshold=3 c1=3 c2=1 what=[Accept this PIV and output] noise=0.10 threshold=3 c1=3 c2=1 save=[Z:/Chris/Kinesin/Confocal Videos/211027_no XL + kinesin + myosin/PIV/PIV_1_500_6min.nd2 - C=1_Substack (1,10).txt]\");\n",
    "ij.run(\"plot...\", \"select=[Z:/Chris/Kinesin/Confocal Videos/211027_no XL + kinesin + myosin/PIV/PIV_1_500_6min.nd2 - C=1_Substack (1,10).txt] autoscale vector_scale=1 max=500 plot_width=0 plot_height=0 show lut=S_Pet\");\n",
    "ij.close();\n",
    "ij.saveAs(\"Tiff\", \"Z:/Chris/Kinesin/Confocal Videos/211027_no XL + kinesin + myosin/PIV/Vector plot_PIV_1_500_6min.nd2 - C=1_Substack (1,10).tif\");\n",
    "ij.saveAs(\"Jpeg\", \"Z:/Chris/Kinesin/Confocal Videos/211027_no XL + kinesin + myosin/PIV/Vector plot_PIV_1_500_6min.nd2 - C=1_Substack (1,10).jpg\");\n",
    "ij.close();\n",
    "ij.close();\n",
    "ij.close();\n",
    "ij.close();\n",
    "ij.close();\n",
    "ij.run(\"Save\");\n",
    "ij.saveAs(\"Results\", \"Z:/Chris/Kinesin/Confocal Videos/211027_no XL + kinesin + myosin/PIV/Results_1_500_6min.nd2 - C=1.csv\");\n",
    "ij.close();\n",
    "ij.selectWindow(\"1_500_6min.nd2 - C=1.tif\");\n",
    "ij.close();'''"
   ]
  },
  {
   "cell_type": "code",
   "execution_count": null,
   "metadata": {},
   "outputs": [],
   "source": []
  }
 ],
 "metadata": {
  "kernelspec": {
   "display_name": "Python 3",
   "language": "python",
   "name": "python3"
  },
  "language_info": {
   "codemirror_mode": {
    "name": "ipython",
    "version": 3
   },
   "file_extension": ".py",
   "mimetype": "text/x-python",
   "name": "python",
   "nbconvert_exporter": "python",
   "pygments_lexer": "ipython3",
   "version": "3.8.3"
  }
 },
 "nbformat": 4,
 "nbformat_minor": 4
}
